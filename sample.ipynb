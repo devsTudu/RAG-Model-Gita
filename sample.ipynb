{
 "cells": [
  {
   "cell_type": "code",
   "execution_count": null,
   "id": "539c2677b182015d",
   "metadata": {
    "ExecuteTime": {
     "end_time": "2025-05-28T14:37:48.760233Z",
     "start_time": "2025-05-28T14:37:48.749397Z"
    }
   },
   "outputs": [],
   "source": [
    "# from src.data_ingestion.parsers import process_md\n",
    "from utils.file_handler import list_of_files\n",
    "\n",
    "\n"
   ]
  },
  {
   "cell_type": "code",
   "execution_count": 14,
   "id": "17c36436253bfa6f",
   "metadata": {
    "jupyter": {
     "is_executing": true
    }
   },
   "outputs": [
    {
     "data": {
      "text/plain": [
       "[]"
      ]
     },
     "execution_count": 14,
     "metadata": {},
     "output_type": "execute_result"
    }
   ],
   "source": [
    "md_files = list_of_files(\"data/raw/en/1/\",\".md\")\n",
    "md_files"
   ]
  },
  {
   "cell_type": "code",
   "execution_count": 17,
   "id": "a36e251287bc4ef",
   "metadata": {
    "ExecuteTime": {
     "end_time": "2025-05-28T14:37:12.772787Z",
     "start_time": "2025-05-28T14:37:12.772787Z"
    }
   },
   "outputs": [],
   "source": [
    "# for file in md_files:\n",
    "import os\n",
    "for root, dirs, files in os.walk(\"data/raw/en/1/\"):\n",
    "    for file in files:\n",
    "        print(file)\n",
    "        if file.endswith(\".md\"):\n",
    "            print(f\"Processing {file} in {root}\")\n",
    "            # process_md(file, root"
   ]
  },
  {
   "cell_type": "code",
   "execution_count": 26,
   "id": "ecd98e62",
   "metadata": {},
   "outputs": [],
   "source": [
    "import glob\n",
    "import os\n",
    "\n",
    "def list_files_with_glob(path):\n",
    "    \"\"\"\n",
    "    Lists files using glob.\n",
    "    Note: This is less efficient for deep recursion compared to os.walk()\n",
    "    and requires careful pattern matching for subfolders.\n",
    "    \"\"\"\n",
    "    file_list = []\n",
    "    # ** means match any files and zero or more directories and subdirectories\n",
    "    # recursive=True is necessary for ** to work\n",
    "    for filepath in glob.glob(os.path.join(path, '**'), recursive=True):\n",
    "        if os.path.isfile(filepath):\n",
    "            file_list.append(filepath)\n",
    "    return file_list"
   ]
  },
  {
   "cell_type": "code",
   "execution_count": 35,
   "id": "8f7d6acf",
   "metadata": {},
   "outputs": [
    {
     "data": {
      "text/plain": [
       "[]"
      ]
     },
     "execution_count": 35,
     "metadata": {},
     "output_type": "execute_result"
    }
   ],
   "source": [
    "list_files_with_glob(\"/data/raw/en/1/\")"
   ]
  },
  {
   "cell_type": "code",
   "execution_count": null,
   "id": "1605dfd7",
   "metadata": {},
   "outputs": [],
   "source": []
  }
 ],
 "metadata": {
  "kernelspec": {
   "display_name": "Python 3",
   "language": "python",
   "name": "python3"
  },
  "language_info": {
   "codemirror_mode": {
    "name": "ipython",
    "version": 3
   },
   "file_extension": ".py",
   "mimetype": "text/x-python",
   "name": "python",
   "nbconvert_exporter": "python",
   "pygments_lexer": "ipython3",
   "version": "3.12.1"
  }
 },
 "nbformat": 4,
 "nbformat_minor": 5
}
