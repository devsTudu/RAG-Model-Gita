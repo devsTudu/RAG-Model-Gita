{
 "cells": [
  {
   "cell_type": "code",
   "execution_count": 1,
   "id": "8f1d3518",
   "metadata": {},
   "outputs": [
    {
     "data": {
      "text/plain": [
       "True"
      ]
     },
     "execution_count": 1,
     "metadata": {},
     "output_type": "execute_result"
    }
   ],
   "source": [
    "from dotenv import load_dotenv\n",
    "load_dotenv()"
   ]
  },
  {
   "cell_type": "markdown",
   "id": "fc2b2078",
   "metadata": {},
   "source": [
    "Based on the provided texts, the purpose of man, as understood through the lens of Vedic philosophy and related traditions, can be summarized as follows:\n",
    "\n",
    "*   **Attaining Ultimate Salvation/Spiritual Perfection:** The overarching goal is to achieve liberation from the cycle of birth and death and attain a state of eternal bliss. This is often framed as realizing one's connection to the Supreme Being (Vishnu or Krishna).\n",
    "\n",
    "*   **Self-Realization:** A key aspect of this salvation is understanding one's true self and detaching from the material world. This can be achieved through philosophical inquiry (Sankhya) or devotional practices (Yoga).\n",
    "\n",
    "*   **Controlling the Senses:** Sense gratification is seen as the root cause of material bondage. Disciplining the senses through practices like yoga, sacrifice, and regulated life (brahmacari, householder life) is crucial for spiritual progress.\n",
    "\n",
    "*   **Following Dharma:** Adhering to one's prescribed duties and responsibilities within the *varnasrama-dharma* system (community projects and family welfare) is considered essential for enabling individuals to remember Vishnu and achieve salvation.\n",
    "\n",
    "In essence, the purpose of man, according to these traditions, is to transcend the temporary material existence, realize one's eternal spiritual nature, and achieve union with the divine.\n"
   ]
  },
  {
   "cell_type": "code",
   "execution_count": null,
   "id": "f91e317c",
   "metadata": {},
   "outputs": [],
   "source": [
    "from src.data_ingestion.pipeline import get_docs\n",
    "from src.vector_store.load_db import PGVectorDataLoader\n",
    "\n",
    "docs = get_docs()\n",
    "pg_vec = PGVectorDataLoader(tablename=\"gita\")\n",
    "# pg_vec.load_documents(docs)"
   ]
  },
  {
   "cell_type": "code",
   "execution_count": 3,
   "id": "466cb8b6",
   "metadata": {},
   "outputs": [
    {
     "data": {
      "text/plain": [
       "[Document(id='a78ddcf0-e428-4ac1-a478-7b90bbd8130d', metadata={'Verse': '19', 'Chapter': '9', 'Reference': '9:19', 'Translation': '**O Arjuna, I give heat, and I withhold and send forth the rain. I am immortality, and I am also death personified. Both spirit and matter are in Me.**'}, page_content='**O Arjuna, I give heat, and I withhold and send forth the rain. I am immortality, and I am also death personified. Both spirit and matter are in Me.** is spoken and it can be understood using Krishna, by His different energies, diffuses heat and light through the agency of electricity and the sun. During summer season it is Krishna who checks rain from falling from the sky, and then during the rainy season He gives unceasing torrents of rain. The energy which sustains us by prolonging the duration of our life is Krishna, and Krishna meets us at the end as death. By analyzing all these different energies of Krishna, one can ascertain that for Krishna there is no distinction between matter and spirit, or, in other words, He is both matter and spirit. In the advanced stage of Krishna consciousness, one therefore makes no such distinctions. He sees only Krishna in everything.\\n\\nSince Krishna is both matter and spirit, the gigantic universal form comprising all material manifestations is also Krishna, and His pastimes in Vrindavana as two-handed Syamasundara, playing on a flute, are those of the Supreme Personality of Godhead.'),\n",
       " Document(id='1b185fa1-e075-4bd2-a918-e350d6b24fd6', metadata={'Verse': '24', 'Chapter': '10', 'Reference': '10:24', 'Translation': '**Of priests, O Arjuna, know Me to be the chief, Brihaspati. Of generals I am Kartikeya, and of bodies of water I am the ocean.**'}, page_content=\"**Of priests, O Arjuna, know Me to be the chief, Brihaspati. Of generals I am Kartikeya, and of bodies of water I am the ocean.** is spoken and it can be understood using Indra is the chief demigod of the heavenly planets and is known as the king of the heavens. The planet on which he reigns is called Indraloka. Brihaspati is Indra's priest, and since Indra is the chief of all kings, Brihaspati is the chief of all priests. And as Indra is the chief of all kings, similarly Skanda, or Kartikeya, the son of Parvati and Lord Siva, is the chief of all military commanders. And of all bodies of water, the ocean is the greatest. These representations of Krishna only give hints of His greatness.\"),\n",
       " Document(id='80b0e20f-1de8-45d3-ad4d-48f4c9c622aa', metadata={'Verse': '3', 'Chapter': '7', 'Reference': '7:3', 'Translation': '**Out of many thousands among men, one may endeavor for perfection, and of those who have achieved perfection, hardly one knows Me in truth.**'}, page_content='**Out of many thousands among men, one may endeavor for perfection, and of those who have achieved perfection, hardly one knows Me in truth.** is spoken and it can be understood using There are various grades of men, and out of many thousands, one may be sufficiently interested in transcendental realization to try to know what is the self, what is the body, and what is the Absolute Truth. Generally mankind is simply engaged in the animal propensities, namely eating, sleeping, defending and mating, and hardly anyone is interested in transcendental knowledge. The first six chapters of the Gita are meant for those who are interested in transcendental knowledge, in understanding the self, the Superself and the process of realization by jnana-yoga, dhyana-yoga and discrimination of the self from matter. However, Krishna can be known only by persons who are in Krishna consciousness. Other transcendentalists may achieve impersonal Brahman realization, for this is easier than understanding Krishna. Krishna is the Supreme Person, but at the same time He is beyond the knowledge of Brahman and Paramatma. The yogis and jnanis are confused in their attempts to understand Krishna. Although the greatest of the impersonalists, Sripada Sankaracarya, has admitted in his Gita commentary that Krishna is the Supreme Personality of Godhead, his followers do not accept Krishna as such, for it is very difficult to know Krishna, even though one has transcendental realization of impersonal Brahman.\\n\\nKrishna is the Supreme Personality of Godhead, the cause of all causes, the primeval Lord Govinda. Isvarah paramah krishnah sac-cid-ananda-vigrahah/ anadir adir govindah sarva-karana-karanam. It is very difficult for the nondevotees to know Him. Although nondevotees declare that the path of bhakti, or devotional service, is very easy, they cannot practice it. If the path of bhakti is so easy, as the nondevotee class of men proclaim, then why do they take up the difficult path? Actually the path of bhakti is not easy. The so-called path of bhakti practiced by unauthorized persons without knowledge of bhakti may be easy, but when it is practiced factually according to the rules and regulations, the speculative scholars and philosophers fall away from the path. Srila Rupa Gosvami writes in his Bhakti-rasamrita-sindhu (1.2.101) sruti-smriti-puranadi-\\n\\npancaratra-vidhim vina\\n\\naikantiki harer bhaktir\\n\\nutpatayaiva kalpate\\n\\n\"Devotional service of the Lord that ignores the authorized Vedic literatures like the Upanishads, Puranas and Narada-pancaratra is simply an unnecessary disturbance in society.\"\\n\\nIt is not possible for the Brahman-realized impersonalist or the Paramatma-realized yogi to understand Krishna the Supreme Personality of Godhead as the son of mother Yasoda or the charioteer of Arjuna. Even the great demigods are sometimes confused about Krishna (muhyanti yat surayah). Mam tu veda na kascana: \"No one knows Me as I am,\" the Lord says. And if one does know Him, then sa mahatma su-durlabhah. \"Such a great soul is very rare.\" Therefore unless one practices devotional service to the Lord, one cannot know Krishna as He is (tattvatah), even though one is a great scholar or philosopher. Only the pure devotees can know something of the inconceivable transcendental qualities in Krishna, in the cause of all causes, in His omnipotence and opulence, and in His wealth, fame, strength, beauty, knowledge and renunciation, because Krishna is benevolently inclined to His devotees. He is the last word in Brahman realization, and the devotees alone can realize Him as He is. Therefore it is said atah sri-krishna-namadi\\n\\nna bhaved grahyam indriyaih\\n\\nsevonmukhe hi jihvadau\\n\\nsvayam eva sphuraty adah\\n\\n\"No one can understand Krishna as He is by the blunt material senses. But He reveals Himself to the devotees, being pleased with them for their transcendental loving service unto Him.\" (Bhakti-rasamrita-sindhu 1.2.234)'),\n",
       " Document(id='366ae0ad-baba-41e9-a3b6-55f06037c298', metadata={'Verse': '8', 'Chapter': '10', 'Reference': '10:8', 'Translation': '**I am the source of all spiritual and material worlds. Everything emanates from Me. The wise who perfectly know this engage in My devotional service and worship Me with all their hearts.**'}, page_content='**I am the source of all spiritual and material worlds. Everything emanates from Me. The wise who perfectly know this engage in My devotional service and worship Me with all their hearts.** is spoken and it can be understood using A learned scholar who has studied the Vedas perfectly and has information from authorities like Lord Caitanya and who knows how to apply these teachings can understand that Krishna is the origin of everything in both the material and spiritual worlds, and because he knows this perfectly he becomes firmly fixed in the devotional service of the Supreme Lord. He can never be deviated by any amount of nonsensical commentaries or by fools. All Vedic literature agrees that Krishna is the source of Brahma, Siva and all other demigods. In the Atharva Veda (Gopala-tapani Upanishad 1.24) it is said, yo brahmanam vidadhati purvam yo vai vedams ca gapayati sma krishnah: \"It was Krishna who in the beginning instructed Brahma in Vedic knowledge and who disseminated Vedic knowledge in the past.\" Then again the Narayana Upanishad (1) says, atha purusho ha vai narayano \\'kamayata prajah srijeyeti: \"Then the Supreme Personality Narayana desired to create living entities.\" The Upanishad continues, narayanad brahma jayate, narayanad prajapatih prajayate, narayanad indro jayate, narayanad ashtau vasavo jayante, narayanad ekadasa rudra jayante, narayanad dvadasadityah: \"From Narayana, Brahma is born, and from Narayana the patriarchs are also born. From Narayana, Indra is born, from Narayana the eight Vasus are born, from Narayana the eleven Rudras are born, from Narayana the twelve Adityas are born.\" This Narayana is an expansion of Krishna.\\n\\nIt is said in the same Vedas, brahmanyo devaki-putrah: \"The son of Devaki, Krishna, is the Supreme Personality.\" (Narayana Upanishad 4) Then it is said, eko vai narayana asin na brahma na isano napo nagni-samau neme dyav-aprithivi na nakshatrani na suryah: \"In the beginning of the creation there was only the Supreme Personality Narayana. There was no Brahma, no Siva, no water, no fire, no moon, no stars in the sky, no sun.\" (Maha Upanishad 1) In the Maha Upanishad it is also said that Lord Siva was born from the forehead of the Supreme Lord. Thus the Vedas say that it is the Supreme Lord, the creator of Brahma and Siva, who is to be worshiped.\\n\\nIn the Moksha-dharma Krishna also says,\\n\\nprajapatim ca rudram capy\\n\\naham eva srijami vai\\n\\ntau hi mam na vijanito\\n\\nmama maya-vimohitau\\n\\n\"The patriarchs, Siva and others are created by Me, though they do not know that they are created by Me because they are deluded by My illusory energy.\" In the Varaha Purana it is also said,\\n\\nnarayanah paro devas\\n\\ntasmaj jatas caturmukhah\\n\\ntasmad rudro \\'bhavad devah\\n\\nsa ca sarva-jnatam gatah\\n\\n\"Narayana is the Supreme Personality of Godhead, and from Him Brahma was born, from whom Siva was born.\"\\n\\nLord Krishna is the source of all generations, and He is called the most efficient cause of everything. He says, \"Because everything is born of Me, I am the original source of all. Everything is under Me; no one is above Me.\" There is no supreme controller other than Krishna. One who understands Krishna in such a way from a bona fide spiritual master, with references from Vedic literature, engages all his energy in Krishna consciousness and becomes a truly learned man. In comparison to him, all others, who do not know Krishna properly, are but fools. Only a fool would consider Krishna to be an ordinary man. A Krishna conscious person should not be bewildered by fools; he should avoid all unauthorized commentaries and interpretations on Bhagavad-gita and proceed in Krishna consciousness with determination and firmness.'),\n",
       " Document(id='ff12b290-06cf-4831-af25-7232b0549a6d', metadata={'Verse': '36', 'Chapter': '10', 'Reference': '10:36', 'Translation': '**I am also the gambling of cheats, and of the splendid I am the splendor. I am victory, I am adventure, and I am the strength of the strong.**'}, page_content='**I am also the gambling of cheats, and of the splendid I am the splendor. I am victory, I am adventure, and I am the strength of the strong.** is spoken and it can be understood using There are many kinds of cheaters all over the universe. Of all cheating processes, gambling stands supreme and therefore represents Krishna. As the Supreme, Krishna can be more deceitful than any mere man. If Krishna chooses to deceive a person, no one can surpass Him in His deceit. His greatness is not simply one-sided -- it is all-sided.\\n\\nAmong the victorious, He is victory. He is the splendor of the splendid. Among the enterprising and industrious, He is the most enterprising, the most industrious. Among adventurers He is the most adventurous, and among the strong He is the strongest. When Krishna was present on earth, no one could surpass Him in strength. Even in His childhood He lifted Govardhana Hill. No one can surpass Him in cheating, no one can surpass Him in splendor, no one can surpass Him in victory, no one can surpass Him in enterprise, and no one can surpass Him in strength.')]"
      ]
     },
     "execution_count": 3,
     "metadata": {},
     "output_type": "execute_result"
    }
   ],
   "source": [
    "pg_vec.retrieve(\"Who is Krishna?\")"
   ]
  },
  {
   "cell_type": "code",
   "execution_count": 4,
   "id": "c40d9568",
   "metadata": {},
   "outputs": [],
   "source": [
    "def get_relevant_documents(query: str):\n",
    "  \"\"\"\n",
    "  Retrieves relevant documents from the vectorstore for a given query.\n",
    "\n",
    "  Args:\n",
    "    query: The search query.\n",
    "\n",
    "  Returns:\n",
    "    A list of relevant documents.\n",
    "  \"\"\"\n",
    "  return vectorstore.similarity_search(query)"
   ]
  },
  {
   "cell_type": "code",
   "execution_count": 5,
   "id": "d98b1afa",
   "metadata": {},
   "outputs": [],
   "source": [
    "\n",
    "from langchain_core.runnables import RunnablePassthrough\n",
    "from langchain_core.output_parsers import StrOutputParser\n",
    "from langchain.chains.combine_documents import create_stuff_documents_chain\n",
    "from langchain.chains import create_retrieval_chain\n",
    "from langchain_core.prompts import ChatPromptTemplate\n",
    "from langchain.chat_models import init_chat_model\n",
    "\n",
    "model = init_chat_model(\"gemini-2.0-flash\", model_provider=\"google_genai\")\n",
    "\n",
    "def get_response_from_query(query: str):\n",
    "    \"\"\"\n",
    "    Retrieves relevant documents and generates a response for a given query\n",
    "    using newer LangChain patterns.\n",
    "\n",
    "    Args:\n",
    "      query: The search query.\n",
    "\n",
    "    Returns:\n",
    "      The generated response from the relevant documents.\n",
    "    \"\"\"\n",
    "    # Define a template for the prompt\n",
    "    template = \"\"\"Answer the following question based only on the provided context:\n",
    "    {context}\n",
    "\n",
    "    Question: {input}\n",
    "    \"\"\"\n",
    "    prompt = ChatPromptTemplate.from_template(template)\n",
    "\n",
    "    # Create a stuff document chain\n",
    "    # This chain combines documents into a single prompt and passes it to the model\n",
    "    document_chain = create_stuff_documents_chain(model, prompt)\n",
    "\n",
    "    # Create a retriever from your vectorstore\n",
    "    # This retriever will fetch the most relevant documents based on the query\n",
    "    retriever = vectorstore.as_retriever()\n",
    "\n",
    "    # Create a retrieval chain\n",
    "    # This chain first retrieves documents using the retriever,\n",
    "    # then passes them to the document_chain to generate the response\n",
    "    retrieval_chain = create_retrieval_chain(retriever, document_chain)\n",
    "\n",
    "    # Invoke the retrieval chain with the query\n",
    "    # Use .invoke() instead of .run()\n",
    "    response = retrieval_chain.invoke({\"input\": query})\n",
    "\n",
    "    # The response from the retrieval_chain.invoke will be a dictionary.\n",
    "    # The generated answer is typically in the 'answer' key.\n",
    "    return response['answer']"
   ]
  },
  {
   "cell_type": "code",
   "execution_count": 6,
   "id": "866c36d1",
   "metadata": {},
   "outputs": [
    {
     "data": {
      "text/plain": [
       "'Based on the provided text, the purpose of life according to the Bhagavad-gita is to be delivered from the nescience of material existence. It also includes realizing the aim of human life, which is to revive our sanatana occupation, or sanatana-dharma, the eternal occupation of the living entity, in relationship with the eternal Supreme Lord.'"
      ]
     },
     "execution_count": 6,
     "metadata": {},
     "output_type": "execute_result"
    }
   ],
   "source": [
    "get_response_from_query(\"What is the purpose of life according to the Bhagavad Gita?\")"
   ]
  },
  {
   "cell_type": "code",
   "execution_count": null,
   "id": "4d2a8cc9",
   "metadata": {},
   "outputs": [],
   "source": [
    "get_response_from_query(\"What is real religion\")"
   ]
  },
  {
   "cell_type": "code",
   "execution_count": null,
   "id": "9b3d88cd",
   "metadata": {},
   "outputs": [],
   "source": [
    "print(get_response_from_query(\"How to control my lust?\"))"
   ]
  },
  {
   "cell_type": "code",
   "execution_count": null,
   "id": "b1525230",
   "metadata": {},
   "outputs": [],
   "source": [
    "query = input(\"Enter your query: \")\n",
    "print(get_response_from_query(query))"
   ]
  },
  {
   "cell_type": "code",
   "execution_count": null,
   "id": "35628077",
   "metadata": {},
   "outputs": [],
   "source": []
  }
 ],
 "metadata": {
  "kernelspec": {
   "display_name": ".venv",
   "language": "python",
   "name": "python3"
  },
  "language_info": {
   "codemirror_mode": {
    "name": "ipython",
    "version": 3
   },
   "file_extension": ".py",
   "mimetype": "text/x-python",
   "name": "python",
   "nbconvert_exporter": "python",
   "pygments_lexer": "ipython3",
   "version": "3.12.7"
  }
 },
 "nbformat": 4,
 "nbformat_minor": 5
}
