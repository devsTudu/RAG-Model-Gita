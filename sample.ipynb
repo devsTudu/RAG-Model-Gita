{
 "cells": [
  {
   "metadata": {
    "ExecuteTime": {
     "end_time": "2025-05-28T14:37:48.760233Z",
     "start_time": "2025-05-28T14:37:48.749397Z"
    }
   },
   "cell_type": "code",
   "source": [
    "# from src.data_ingestion.parsers import process_md\n",
    "from utils.file_handler import list_of_files\n",
    "\n",
    "md_files = list_of_files(\"/data/raw/en/\",\".md\")"
   ],
   "id": "539c2677b182015d",
   "outputs": [],
   "execution_count": 5
  },
  {
   "metadata": {
    "jupyter": {
     "is_executing": true
    }
   },
   "cell_type": "code",
   "source": "list_of_files(\"data/raw/en\",\".md\")",
   "id": "17c36436253bfa6f",
   "outputs": [],
   "execution_count": null
  },
  {
   "metadata": {
    "ExecuteTime": {
     "end_time": "2025-05-28T14:37:12.772787Z",
     "start_time": "2025-05-28T14:37:12.772787Z"
    }
   },
   "cell_type": "code",
   "source": "2+5",
   "id": "a36e251287bc4ef",
   "outputs": [],
   "execution_count": null
  }
 ],
 "metadata": {
  "kernelspec": {
   "display_name": "Python 3",
   "language": "python",
   "name": "python3"
  },
  "language_info": {
   "codemirror_mode": {
    "name": "ipython",
    "version": 2
   },
   "file_extension": ".py",
   "mimetype": "text/x-python",
   "name": "python",
   "nbconvert_exporter": "python",
   "pygments_lexer": "ipython2",
   "version": "2.7.6"
  }
 },
 "nbformat": 4,
 "nbformat_minor": 5
}
